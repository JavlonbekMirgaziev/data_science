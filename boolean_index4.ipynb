{
  "nbformat": 4,
  "nbformat_minor": 0,
  "metadata": {
    "colab": {
      "provenance": [],
      "authorship_tag": "ABX9TyMBu+4JoP5iV79udidwtuWV",
      "include_colab_link": true
    },
    "kernelspec": {
      "name": "python3",
      "display_name": "Python 3"
    },
    "language_info": {
      "name": "python"
    }
  },
  "cells": [
    {
      "cell_type": "markdown",
      "metadata": {
        "id": "view-in-github",
        "colab_type": "text"
      },
      "source": [
        "<a href=\"https://colab.research.google.com/github/JavlonbekMirgaziev/data_science/blob/main/boolean_index4.ipynb\" target=\"_parent\"><img src=\"https://colab.research.google.com/assets/colab-badge.svg\" alt=\"Open In Colab\"/></a>"
      ]
    },
    {
      "cell_type": "code",
      "source": [
        "import numpy as np"
      ],
      "metadata": {
        "id": "_buvu1y-44bx"
      },
      "execution_count": 10,
      "outputs": []
    },
    {
      "cell_type": "code",
      "source": [
        "names = np.array(['Islom', 'Olim', 'Xusan', 'Xasan', 'Murod', 'Toxir', 'Sodiq'])\n",
        "names"
      ],
      "metadata": {
        "colab": {
          "base_uri": "https://localhost:8080/"
        },
        "id": "n9p-xeup46Rl",
        "outputId": "fc6910ab-140a-4cd8-8699-00c3c91c3050"
      },
      "execution_count": 11,
      "outputs": [
        {
          "output_type": "execute_result",
          "data": {
            "text/plain": [
              "array(['Islom', 'Olim', 'Xusan', 'Xasan', 'Murod', 'Toxir', 'Sodiq'],\n",
              "      dtype='<U5')"
            ]
          },
          "metadata": {},
          "execution_count": 11
        }
      ]
    },
    {
      "cell_type": "code",
      "source": [
        "data = np.random.randn(7,4)\n",
        "data"
      ],
      "metadata": {
        "colab": {
          "base_uri": "https://localhost:8080/"
        },
        "id": "UzfaIkM-49V-",
        "outputId": "053182b3-2fc5-40a4-f9f9-f5aff19264d4"
      },
      "execution_count": 14,
      "outputs": [
        {
          "output_type": "execute_result",
          "data": {
            "text/plain": [
              "array([[-1.61760829,  0.06881997,  0.44333363, -0.57430938],\n",
              "       [ 0.41764176, -0.14229615, -0.39681156, -0.15561894],\n",
              "       [-0.92473587,  0.37201149, -0.46349732,  1.15867169],\n",
              "       [-0.06594435,  0.10685651,  0.92917359,  0.11400671],\n",
              "       [ 1.43750939,  0.09692198, -0.61333816, -0.55917059],\n",
              "       [ 0.32717833, -1.12354841,  0.11116197,  1.71651623],\n",
              "       [-1.7879935 ,  1.04113217,  0.98536422,  0.4806342 ]])"
            ]
          },
          "metadata": {},
          "execution_count": 14
        }
      ]
    },
    {
      "cell_type": "code",
      "source": [
        "names == 'Xusan'"
      ],
      "metadata": {
        "colab": {
          "base_uri": "https://localhost:8080/"
        },
        "id": "ht2JA2R85DlK",
        "outputId": "79f10d25-f612-4e43-a912-417f9fcfe7c6"
      },
      "execution_count": 15,
      "outputs": [
        {
          "output_type": "execute_result",
          "data": {
            "text/plain": [
              "array([False, False,  True, False, False, False, False])"
            ]
          },
          "metadata": {},
          "execution_count": 15
        }
      ]
    },
    {
      "cell_type": "code",
      "source": [
        "data [names == 'Xusan']"
      ],
      "metadata": {
        "colab": {
          "base_uri": "https://localhost:8080/"
        },
        "id": "xVUXHBPm5ZLP",
        "outputId": "dee11407-4bf3-4cd7-b827-0b8a732aa409"
      },
      "execution_count": 16,
      "outputs": [
        {
          "output_type": "execute_result",
          "data": {
            "text/plain": [
              "array([[-0.92473587,  0.37201149, -0.46349732,  1.15867169]])"
            ]
          },
          "metadata": {},
          "execution_count": 16
        }
      ]
    },
    {
      "cell_type": "code",
      "source": [
        "data [names == 'Toxir']"
      ],
      "metadata": {
        "colab": {
          "base_uri": "https://localhost:8080/"
        },
        "id": "HJRniFZ25fU9",
        "outputId": "0a77cc8a-e711-4251-ed08-1991ae9b4ea7"
      },
      "execution_count": 17,
      "outputs": [
        {
          "output_type": "execute_result",
          "data": {
            "text/plain": [
              "array([[ 0.32717833, -1.12354841,  0.11116197,  1.71651623]])"
            ]
          },
          "metadata": {},
          "execution_count": 17
        }
      ]
    },
    {
      "cell_type": "code",
      "source": [
        "data [names == 'Murod', 2:]"
      ],
      "metadata": {
        "colab": {
          "base_uri": "https://localhost:8080/"
        },
        "id": "x5M_Zkib5jiL",
        "outputId": "38b7121d-2ad0-4c96-db47-891480bc54ea"
      },
      "execution_count": 18,
      "outputs": [
        {
          "output_type": "execute_result",
          "data": {
            "text/plain": [
              "array([[-0.61333816, -0.55917059]])"
            ]
          },
          "metadata": {},
          "execution_count": 18
        }
      ]
    },
    {
      "cell_type": "code",
      "source": [
        "data [names == 'Sodiq', 1]"
      ],
      "metadata": {
        "colab": {
          "base_uri": "https://localhost:8080/"
        },
        "id": "T_EFRqXH53h8",
        "outputId": "d20a4b02-c7ec-41c5-94e6-4e22da56e834"
      },
      "execution_count": 19,
      "outputs": [
        {
          "output_type": "execute_result",
          "data": {
            "text/plain": [
              "array([1.04113217])"
            ]
          },
          "metadata": {},
          "execution_count": 19
        }
      ]
    },
    {
      "cell_type": "code",
      "source": [
        "data[names != 'Xasan']"
      ],
      "metadata": {
        "colab": {
          "base_uri": "https://localhost:8080/"
        },
        "id": "n4svxi4V5--c",
        "outputId": "96218ad4-d80b-43b6-b370-97f1014e794f"
      },
      "execution_count": 20,
      "outputs": [
        {
          "output_type": "execute_result",
          "data": {
            "text/plain": [
              "array([[-1.61760829,  0.06881997,  0.44333363, -0.57430938],\n",
              "       [ 0.41764176, -0.14229615, -0.39681156, -0.15561894],\n",
              "       [-0.92473587,  0.37201149, -0.46349732,  1.15867169],\n",
              "       [ 1.43750939,  0.09692198, -0.61333816, -0.55917059],\n",
              "       [ 0.32717833, -1.12354841,  0.11116197,  1.71651623],\n",
              "       [-1.7879935 ,  1.04113217,  0.98536422,  0.4806342 ]])"
            ]
          },
          "metadata": {},
          "execution_count": 20
        }
      ]
    },
    {
      "cell_type": "code",
      "source": [
        "data[names != 'Olim']"
      ],
      "metadata": {
        "colab": {
          "base_uri": "https://localhost:8080/"
        },
        "id": "l61MDEVy6E5X",
        "outputId": "7a38c65a-dbc8-4cd3-aa2e-7f1555a217ad"
      },
      "execution_count": 21,
      "outputs": [
        {
          "output_type": "execute_result",
          "data": {
            "text/plain": [
              "array([[-1.61760829,  0.06881997,  0.44333363, -0.57430938],\n",
              "       [-0.92473587,  0.37201149, -0.46349732,  1.15867169],\n",
              "       [-0.06594435,  0.10685651,  0.92917359,  0.11400671],\n",
              "       [ 1.43750939,  0.09692198, -0.61333816, -0.55917059],\n",
              "       [ 0.32717833, -1.12354841,  0.11116197,  1.71651623],\n",
              "       [-1.7879935 ,  1.04113217,  0.98536422,  0.4806342 ]])"
            ]
          },
          "metadata": {},
          "execution_count": 21
        }
      ]
    },
    {
      "cell_type": "code",
      "source": [
        "data[~(names == 'Xasan')]"
      ],
      "metadata": {
        "colab": {
          "base_uri": "https://localhost:8080/"
        },
        "id": "mjJfE7wz6Jv3",
        "outputId": "27028fa7-5e59-4603-9a38-1118fea085e9"
      },
      "execution_count": 22,
      "outputs": [
        {
          "output_type": "execute_result",
          "data": {
            "text/plain": [
              "array([[-1.61760829,  0.06881997,  0.44333363, -0.57430938],\n",
              "       [ 0.41764176, -0.14229615, -0.39681156, -0.15561894],\n",
              "       [-0.92473587,  0.37201149, -0.46349732,  1.15867169],\n",
              "       [ 1.43750939,  0.09692198, -0.61333816, -0.55917059],\n",
              "       [ 0.32717833, -1.12354841,  0.11116197,  1.71651623],\n",
              "       [-1.7879935 ,  1.04113217,  0.98536422,  0.4806342 ]])"
            ]
          },
          "metadata": {},
          "execution_count": 22
        }
      ]
    },
    {
      "cell_type": "code",
      "source": [
        "data[~(names == 'Toxir')]"
      ],
      "metadata": {
        "colab": {
          "base_uri": "https://localhost:8080/"
        },
        "id": "hIeeV00J6Xx8",
        "outputId": "d04e570b-cbaa-4fe8-acb6-45db767ac37a"
      },
      "execution_count": 41,
      "outputs": [
        {
          "output_type": "execute_result",
          "data": {
            "text/plain": [
              "array([[-1.61760829,  0.06881997,  0.44333363, -0.57430938],\n",
              "       [ 0.41764176, -0.14229615, -0.39681156, -0.15561894],\n",
              "       [-0.92473587,  0.37201149, -0.46349732,  1.15867169],\n",
              "       [-0.06594435,  0.10685651,  0.92917359,  0.11400671],\n",
              "       [ 1.43750939,  0.09692198, -0.61333816, -0.55917059],\n",
              "       [-1.7879935 ,  1.04113217,  0.98536422,  0.4806342 ]])"
            ]
          },
          "metadata": {},
          "execution_count": 41
        }
      ]
    },
    {
      "cell_type": "code",
      "source": [
        "print(names)\n",
        "print(data)"
      ],
      "metadata": {
        "colab": {
          "base_uri": "https://localhost:8080/"
        },
        "id": "4cfEZO2987rE",
        "outputId": "8ba4723a-cc0c-425b-d3b7-6dae8bf4a31c"
      },
      "execution_count": 42,
      "outputs": [
        {
          "output_type": "stream",
          "name": "stdout",
          "text": [
            "['Islom' 'Olim' 'Xusan' 'Xasan' 'Murod' 'Toxir' 'Sodiq']\n",
            "[[-1.61760829  0.06881997  0.44333363 -0.57430938]\n",
            " [ 0.41764176 -0.14229615 -0.39681156 -0.15561894]\n",
            " [-0.92473587  0.37201149 -0.46349732  1.15867169]\n",
            " [-0.06594435  0.10685651  0.92917359  0.11400671]\n",
            " [ 1.43750939  0.09692198 -0.61333816 -0.55917059]\n",
            " [ 0.32717833 -1.12354841  0.11116197  1.71651623]\n",
            " [-1.7879935   1.04113217  0.98536422  0.4806342 ]]\n"
          ]
        }
      ]
    },
    {
      "cell_type": "code",
      "source": [
        "mask = (names == 'Xasan')| (names == 'Toxir')|(names == 'Murod')|(names == 'Olim')\n",
        "mask"
      ],
      "metadata": {
        "colab": {
          "base_uri": "https://localhost:8080/"
        },
        "id": "oazSSTNV8-yL",
        "outputId": "54c03383-b686-4a79-b211-c345d18bc040"
      },
      "execution_count": 47,
      "outputs": [
        {
          "output_type": "execute_result",
          "data": {
            "text/plain": [
              "array([False,  True, False,  True,  True,  True, False])"
            ]
          },
          "metadata": {},
          "execution_count": 47
        }
      ]
    },
    {
      "cell_type": "code",
      "source": [
        "data[mask]"
      ],
      "metadata": {
        "colab": {
          "base_uri": "https://localhost:8080/"
        },
        "id": "18QI93Tu9E12",
        "outputId": "8e42eab9-ee9b-44ab-f0b4-4c3375d6136b"
      },
      "execution_count": 48,
      "outputs": [
        {
          "output_type": "execute_result",
          "data": {
            "text/plain": [
              "array([[ 0.41764176, -0.14229615, -0.39681156, -0.15561894],\n",
              "       [-0.06594435,  0.10685651,  0.92917359,  0.11400671],\n",
              "       [ 1.43750939,  0.09692198, -0.61333816, -0.55917059],\n",
              "       [ 0.32717833, -1.12354841,  0.11116197,  1.71651623]])"
            ]
          },
          "metadata": {},
          "execution_count": 48
        }
      ]
    },
    {
      "cell_type": "code",
      "source": [
        "data"
      ],
      "metadata": {
        "colab": {
          "base_uri": "https://localhost:8080/"
        },
        "id": "v8UETYCH9HDl",
        "outputId": "8918f577-e4cb-411e-abea-69bf1b9aba18"
      },
      "execution_count": 49,
      "outputs": [
        {
          "output_type": "execute_result",
          "data": {
            "text/plain": [
              "array([[-1.61760829,  0.06881997,  0.44333363, -0.57430938],\n",
              "       [ 0.41764176, -0.14229615, -0.39681156, -0.15561894],\n",
              "       [-0.92473587,  0.37201149, -0.46349732,  1.15867169],\n",
              "       [-0.06594435,  0.10685651,  0.92917359,  0.11400671],\n",
              "       [ 1.43750939,  0.09692198, -0.61333816, -0.55917059],\n",
              "       [ 0.32717833, -1.12354841,  0.11116197,  1.71651623],\n",
              "       [-1.7879935 ,  1.04113217,  0.98536422,  0.4806342 ]])"
            ]
          },
          "metadata": {},
          "execution_count": 49
        }
      ]
    },
    {
      "cell_type": "code",
      "source": [
        "data[data >= 0] = 2"
      ],
      "metadata": {
        "id": "oyacWtPh9ywE"
      },
      "execution_count": 61,
      "outputs": []
    },
    {
      "cell_type": "code",
      "source": [
        "data"
      ],
      "metadata": {
        "colab": {
          "base_uri": "https://localhost:8080/"
        },
        "id": "C6ZQ__si93eh",
        "outputId": "3ed17159-f276-4d6c-be3f-e4329572895b"
      },
      "execution_count": 62,
      "outputs": [
        {
          "output_type": "execute_result",
          "data": {
            "text/plain": [
              "array([[2., 2., 2., 2.],\n",
              "       [2., 2., 2., 2.],\n",
              "       [2., 2., 2., 2.],\n",
              "       [2., 2., 2., 2.],\n",
              "       [2., 2., 2., 2.],\n",
              "       [2., 2., 2., 2.],\n",
              "       [2., 2., 2., 2.]])"
            ]
          },
          "metadata": {},
          "execution_count": 62
        }
      ]
    },
    {
      "cell_type": "code",
      "source": [],
      "metadata": {
        "id": "HFWeheBW-dpf"
      },
      "execution_count": null,
      "outputs": []
    }
  ]
}