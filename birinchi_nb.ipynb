{
  "nbformat": 4,
  "nbformat_minor": 0,
  "metadata": {
    "colab": {
      "provenance": [],
      "gpuType": "T4",
      "authorship_tag": "ABX9TyO6W4jJafN6X17OIB/mVbRF",
      "include_colab_link": true
    },
    "kernelspec": {
      "name": "python3",
      "display_name": "Python 3"
    },
    "language_info": {
      "name": "python"
    },
    "accelerator": "GPU"
  },
  "cells": [
    {
      "cell_type": "markdown",
      "metadata": {
        "id": "view-in-github",
        "colab_type": "text"
      },
      "source": [
        "<a href=\"https://colab.research.google.com/github/JavlonbekMirgaziev/data_science/blob/main/birinchi_nb.ipynb\" target=\"_parent\"><img src=\"https://colab.research.google.com/assets/colab-badge.svg\" alt=\"Open In Colab\"/></a>"
      ]
    },
    {
      "cell_type": "code",
      "source": [
        "import numpy as np"
      ],
      "metadata": {
        "id": "AmehCNsV6Sr5"
      },
      "execution_count": null,
      "outputs": []
    },
    {
      "cell_type": "code",
      "source": [
        "data1 = [234,235,234,457,256,] #list\n",
        "arr1 = np.array(data1) #array1"
      ],
      "metadata": {
        "id": "jwdZzPM27iVJ"
      },
      "execution_count": null,
      "outputs": []
    },
    {
      "cell_type": "code",
      "source": [
        "data1\n"
      ],
      "metadata": {
        "colab": {
          "base_uri": "https://localhost:8080/"
        },
        "id": "MoZxgFJB7pS4",
        "outputId": "1e0dca59-fb01-444c-958c-1af63f2bb853"
      },
      "execution_count": null,
      "outputs": [
        {
          "output_type": "execute_result",
          "data": {
            "text/plain": [
              "[234, 235, 234, 457, 256]"
            ]
          },
          "metadata": {},
          "execution_count": 17
        }
      ]
    },
    {
      "cell_type": "code",
      "source": [
        "arr1"
      ],
      "metadata": {
        "colab": {
          "base_uri": "https://localhost:8080/"
        },
        "id": "ZWfWA0Ss7vc1",
        "outputId": "e3566f86-6b05-42dd-bacc-966fd2fafa52"
      },
      "execution_count": null,
      "outputs": [
        {
          "output_type": "execute_result",
          "data": {
            "text/plain": [
              "array([234, 235, 234, 457, 256])"
            ]
          },
          "metadata": {},
          "execution_count": 18
        }
      ]
    },
    {
      "cell_type": "code",
      "source": [
        "data2 = (2525,5235,25235,235235,) #tuple\n",
        "arr2 = np.array(data2)"
      ],
      "metadata": {
        "id": "sV6PZY_57wsd"
      },
      "execution_count": null,
      "outputs": []
    },
    {
      "cell_type": "code",
      "source": [
        "data2"
      ],
      "metadata": {
        "colab": {
          "base_uri": "https://localhost:8080/"
        },
        "id": "TSwxFSE_8TXB",
        "outputId": "07b92591-2331-4e8d-dc84-83b68cfb2c3a"
      },
      "execution_count": null,
      "outputs": [
        {
          "output_type": "execute_result",
          "data": {
            "text/plain": [
              "(2525, 5235, 25235, 235235)"
            ]
          },
          "metadata": {},
          "execution_count": 21
        }
      ]
    },
    {
      "cell_type": "code",
      "source": [
        "arr2"
      ],
      "metadata": {
        "colab": {
          "base_uri": "https://localhost:8080/"
        },
        "id": "iVMJF1OO8VE5",
        "outputId": "ae20826a-28b1-4fe8-8dbf-cbc697950dcd"
      },
      "execution_count": null,
      "outputs": [
        {
          "output_type": "execute_result",
          "data": {
            "text/plain": [
              "array([  2525,   5235,  25235, 235235])"
            ]
          },
          "metadata": {},
          "execution_count": 22
        }
      ]
    },
    {
      "cell_type": "markdown",
      "source": [
        "massiv olchamini aniqlash"
      ],
      "metadata": {
        "id": "x6IVlMFz8vbs"
      }
    },
    {
      "cell_type": "code",
      "source": [
        "arr1.ndim # array1 ning olchami. Bu  \".ndim\" orqali aniqlanadi"
      ],
      "metadata": {
        "colab": {
          "base_uri": "https://localhost:8080/"
        },
        "id": "52Phs8WU8WyD",
        "outputId": "1d4acc10-a7d7-47c3-ea85-4e1ac865dd58"
      },
      "execution_count": null,
      "outputs": [
        {
          "output_type": "execute_result",
          "data": {
            "text/plain": [
              "1"
            ]
          },
          "metadata": {},
          "execution_count": 23
        }
      ]
    },
    {
      "cell_type": "markdown",
      "source": [
        "Ikki va unda kotta massivlar\n"
      ],
      "metadata": {
        "id": "HLB8OLU49lX5"
      }
    },
    {
      "cell_type": "code",
      "source": [
        "data3 = [[1,2,3,4],[5,6,7,8]]\n",
        "arr3 = np.array(data3)"
      ],
      "metadata": {
        "id": "ICNAhqR4-9dr"
      },
      "execution_count": null,
      "outputs": []
    },
    {
      "cell_type": "code",
      "source": [
        "arr3.ndim # buning olchami 2 olchamni"
      ],
      "metadata": {
        "colab": {
          "base_uri": "https://localhost:8080/"
        },
        "id": "HuxVWePP_IYs",
        "outputId": "20a8aabc-06c4-4e49-914d-7f4381c619fb"
      },
      "execution_count": null,
      "outputs": [
        {
          "output_type": "execute_result",
          "data": {
            "text/plain": [
              "2"
            ]
          },
          "metadata": {},
          "execution_count": 33
        }
      ]
    },
    {
      "cell_type": "code",
      "source": [
        "data4 = [[[[23,34,45,64]]]],[[[[34,34,657,343]]]]\n",
        "arr4 = np.array(data4)"
      ],
      "metadata": {
        "id": "u1wiDrxU_dg7"
      },
      "execution_count": null,
      "outputs": []
    },
    {
      "cell_type": "code",
      "source": [
        "arr4.ndim"
      ],
      "metadata": {
        "colab": {
          "base_uri": "https://localhost:8080/"
        },
        "id": "ltj02Qdx_pNa",
        "outputId": "488b2fed-ccb2-459e-cde7-a8990fe7c69b"
      },
      "execution_count": null,
      "outputs": [
        {
          "output_type": "execute_result",
          "data": {
            "text/plain": [
              "4"
            ]
          },
          "metadata": {},
          "execution_count": 41
        }
      ]
    },
    {
      "cell_type": "code",
      "source": [],
      "metadata": {
        "id": "yh9XGWkbAg5b"
      },
      "execution_count": null,
      "outputs": []
    },
    {
      "cell_type": "markdown",
      "source": [
        "shape , size metodlari"
      ],
      "metadata": {
        "id": "lIjpPllFAiW7"
      }
    },
    {
      "cell_type": "markdown",
      "source": [
        "shape metodi massivlarni qatori va utunini korsatadi"
      ],
      "metadata": {
        "id": "FBfHoBKeAvWI"
      }
    },
    {
      "cell_type": "code",
      "source": [
        "arr3"
      ],
      "metadata": {
        "colab": {
          "base_uri": "https://localhost:8080/"
        },
        "id": "6i6qnun9ArnG",
        "outputId": "0ebfcdc0-7845-4e29-b213-f8994bd10eb0"
      },
      "execution_count": null,
      "outputs": [
        {
          "output_type": "execute_result",
          "data": {
            "text/plain": [
              "array([[1, 2, 3, 4],\n",
              "       [5, 6, 7, 8]])"
            ]
          },
          "metadata": {},
          "execution_count": 42
        }
      ]
    },
    {
      "cell_type": "code",
      "source": [
        "arr3.shape # shape- qator va stunlarni kortasatadi"
      ],
      "metadata": {
        "colab": {
          "base_uri": "https://localhost:8080/"
        },
        "id": "r1mvtKvXA-FY",
        "outputId": "6e6a6376-e69a-4692-cb2e-74eae6a89ec7"
      },
      "execution_count": null,
      "outputs": [
        {
          "output_type": "execute_result",
          "data": {
            "text/plain": [
              "(2, 4)"
            ]
          },
          "metadata": {},
          "execution_count": 44
        }
      ]
    },
    {
      "cell_type": "code",
      "source": [
        "arr3"
      ],
      "metadata": {
        "colab": {
          "base_uri": "https://localhost:8080/"
        },
        "id": "_nDllYgRBgWn",
        "outputId": "ce5adca5-f558-437b-8fee-ccce3a5a9d49"
      },
      "execution_count": null,
      "outputs": [
        {
          "output_type": "execute_result",
          "data": {
            "text/plain": [
              "array([[1, 2, 3, 4],\n",
              "       [5, 6, 7, 8]])"
            ]
          },
          "metadata": {},
          "execution_count": 45
        }
      ]
    },
    {
      "cell_type": "code",
      "source": [
        "arr3.size # elementlar sonini ko'rsatadi"
      ],
      "metadata": {
        "colab": {
          "base_uri": "https://localhost:8080/"
        },
        "id": "AfC7OFMiBhS4",
        "outputId": "3e109684-324c-46d6-abf7-5e98be38ceee"
      },
      "execution_count": null,
      "outputs": [
        {
          "output_type": "execute_result",
          "data": {
            "text/plain": [
              "8"
            ]
          },
          "metadata": {},
          "execution_count": 46
        }
      ]
    },
    {
      "cell_type": "markdown",
      "source": [
        "N - o'lchamli massivlarni yaratishni boshqa  usullar"
      ],
      "metadata": {
        "id": "Tx5u__tBJpME"
      }
    },
    {
      "cell_type": "code",
      "source": [
        "import numpy as np\n"
      ],
      "metadata": {
        "id": "Bp9cVTGVEdtT"
      },
      "execution_count": 8,
      "outputs": []
    },
    {
      "cell_type": "code",
      "source": [
        "arr4 = np.zeros(shape=(4,8))"
      ],
      "metadata": {
        "id": "FlbWHSdzTVmA"
      },
      "execution_count": 9,
      "outputs": []
    },
    {
      "cell_type": "code",
      "source": [
        "arr4"
      ],
      "metadata": {
        "colab": {
          "base_uri": "https://localhost:8080/"
        },
        "id": "jjVjBXrbTccx",
        "outputId": "c37e0078-db12-4c5a-f9ff-d27819df796e"
      },
      "execution_count": 10,
      "outputs": [
        {
          "output_type": "execute_result",
          "data": {
            "text/plain": [
              "array([[0., 0., 0., 0., 0., 0., 0., 0.],\n",
              "       [0., 0., 0., 0., 0., 0., 0., 0.],\n",
              "       [0., 0., 0., 0., 0., 0., 0., 0.],\n",
              "       [0., 0., 0., 0., 0., 0., 0., 0.]])"
            ]
          },
          "metadata": {},
          "execution_count": 10
        }
      ]
    },
    {
      "cell_type": "code",
      "source": [
        "arr5 = np.ones(shape=(5,6))\n",
        "arr5"
      ],
      "metadata": {
        "colab": {
          "base_uri": "https://localhost:8080/"
        },
        "id": "1CszGdEHTd-n",
        "outputId": "3d25b381-171f-4f29-e9b9-e23624256feb"
      },
      "execution_count": 11,
      "outputs": [
        {
          "output_type": "execute_result",
          "data": {
            "text/plain": [
              "array([[1., 1., 1., 1., 1., 1.],\n",
              "       [1., 1., 1., 1., 1., 1.],\n",
              "       [1., 1., 1., 1., 1., 1.],\n",
              "       [1., 1., 1., 1., 1., 1.],\n",
              "       [1., 1., 1., 1., 1., 1.]])"
            ]
          },
          "metadata": {},
          "execution_count": 11
        }
      ]
    },
    {
      "cell_type": "code",
      "source": [
        "arr6 = np.arange(0,500,5)\n",
        "arr6"
      ],
      "metadata": {
        "colab": {
          "base_uri": "https://localhost:8080/"
        },
        "id": "1PS4LV26TmMq",
        "outputId": "b28c17c1-9f52-407b-d556-309b36135b9f"
      },
      "execution_count": 18,
      "outputs": [
        {
          "output_type": "execute_result",
          "data": {
            "text/plain": [
              "array([  0,   5,  10,  15,  20,  25,  30,  35,  40,  45,  50,  55,  60,\n",
              "        65,  70,  75,  80,  85,  90,  95, 100, 105, 110, 115, 120, 125,\n",
              "       130, 135, 140, 145, 150, 155, 160, 165, 170, 175, 180, 185, 190,\n",
              "       195, 200, 205, 210, 215, 220, 225, 230, 235, 240, 245, 250, 255,\n",
              "       260, 265, 270, 275, 280, 285, 290, 295, 300, 305, 310, 315, 320,\n",
              "       325, 330, 335, 340, 345, 350, 355, 360, 365, 370, 375, 380, 385,\n",
              "       390, 395, 400, 405, 410, 415, 420, 425, 430, 435, 440, 445, 450,\n",
              "       455, 460, 465, 470, 475, 480, 485, 490, 495])"
            ]
          },
          "metadata": {},
          "execution_count": 18
        }
      ]
    },
    {
      "cell_type": "code",
      "source": [
        "arr7 = np.arange(1,100,2)\n",
        "arr7"
      ],
      "metadata": {
        "colab": {
          "base_uri": "https://localhost:8080/"
        },
        "id": "qFdABaIPUgQF",
        "outputId": "65d1df9f-b7d4-4cb7-b3bb-7da730c0f611"
      },
      "execution_count": 21,
      "outputs": [
        {
          "output_type": "execute_result",
          "data": {
            "text/plain": [
              "array([ 1,  3,  5,  7,  9, 11, 13, 15, 17, 19, 21, 23, 25, 27, 29, 31, 33,\n",
              "       35, 37, 39, 41, 43, 45, 47, 49, 51, 53, 55, 57, 59, 61, 63, 65, 67,\n",
              "       69, 71, 73, 75, 77, 79, 81, 83, 85, 87, 89, 91, 93, 95, 97, 99])"
            ]
          },
          "metadata": {},
          "execution_count": 21
        }
      ]
    },
    {
      "cell_type": "code",
      "source": [],
      "metadata": {
        "id": "K_EMvs4FVavq"
      },
      "execution_count": null,
      "outputs": []
    }
  ]
}