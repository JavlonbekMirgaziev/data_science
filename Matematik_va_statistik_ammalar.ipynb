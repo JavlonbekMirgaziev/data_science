{
  "nbformat": 4,
  "nbformat_minor": 0,
  "metadata": {
    "colab": {
      "provenance": [],
      "authorship_tag": "ABX9TyOcGUZblE4Zl5FYw8UEXdwN",
      "include_colab_link": true
    },
    "kernelspec": {
      "name": "python3",
      "display_name": "Python 3"
    },
    "language_info": {
      "name": "python"
    }
  },
  "cells": [
    {
      "cell_type": "markdown",
      "metadata": {
        "id": "view-in-github",
        "colab_type": "text"
      },
      "source": [
        "<a href=\"https://colab.research.google.com/github/JavlonbekMirgaziev/data_science/blob/main/Matematik_va_statistik_ammalar.ipynb\" target=\"_parent\"><img src=\"https://colab.research.google.com/assets/colab-badge.svg\" alt=\"Open In Colab\"/></a>"
      ]
    },
    {
      "cell_type": "code",
      "source": [
        "import numpy as np\n"
      ],
      "metadata": {
        "id": "-wxxwy2BXxLk"
      },
      "execution_count": 56,
      "outputs": []
    },
    {
      "cell_type": "code",
      "source": [
        "data = np.random.randn(7,4)\n",
        "data"
      ],
      "metadata": {
        "colab": {
          "base_uri": "https://localhost:8080/"
        },
        "id": "Dbkb3lKqX0S0",
        "outputId": "7ed155c1-36c3-467e-c987-165296c13822"
      },
      "execution_count": 58,
      "outputs": [
        {
          "output_type": "execute_result",
          "data": {
            "text/plain": [
              "array([[-0.41681558,  0.75062364, -0.87929649, -1.05931636],\n",
              "       [ 0.08920807,  0.70159139,  0.53363634, -0.18497346],\n",
              "       [-0.57583369,  0.14546338, -0.43146014, -0.06338085],\n",
              "       [ 2.13831438, -0.09234153,  1.18518744,  0.94251828],\n",
              "       [ 0.10864867, -1.05818013,  0.69689091, -0.45703636],\n",
              "       [-1.04362196, -0.38561118,  1.71920804,  0.99785778],\n",
              "       [-0.86618965, -0.1449684 ,  0.91654823,  0.6431055 ]])"
            ]
          },
          "metadata": {},
          "execution_count": 58
        }
      ]
    },
    {
      "cell_type": "code",
      "source": [
        "data.sum()"
      ],
      "metadata": {
        "colab": {
          "base_uri": "https://localhost:8080/"
        },
        "id": "ZbVYraaJX6PS",
        "outputId": "a90fd5de-0383-4904-a4a5-d5b0100bbf7d"
      },
      "execution_count": 60,
      "outputs": [
        {
          "output_type": "execute_result",
          "data": {
            "text/plain": [
              "3.909776266401816"
            ]
          },
          "metadata": {},
          "execution_count": 60
        }
      ]
    },
    {
      "cell_type": "code",
      "source": [
        "np.sum(data)"
      ],
      "metadata": {
        "colab": {
          "base_uri": "https://localhost:8080/"
        },
        "id": "W5GANM-uX9tp",
        "outputId": "5b02af46-6f3c-4ae9-85c4-0ee531c0f50a"
      },
      "execution_count": 61,
      "outputs": [
        {
          "output_type": "execute_result",
          "data": {
            "text/plain": [
              "3.909776266401816"
            ]
          },
          "metadata": {},
          "execution_count": 61
        }
      ]
    },
    {
      "cell_type": "code",
      "source": [
        "data.mean()"
      ],
      "metadata": {
        "colab": {
          "base_uri": "https://localhost:8080/"
        },
        "id": "Vr2MugqEYCZt",
        "outputId": "ed402b34-2a56-482c-993f-210757dbf9ad"
      },
      "execution_count": 62,
      "outputs": [
        {
          "output_type": "execute_result",
          "data": {
            "text/plain": [
              "0.13963486665720773"
            ]
          },
          "metadata": {},
          "execution_count": 62
        }
      ]
    },
    {
      "cell_type": "code",
      "source": [
        "mean = np.sum(data)/len(data)\n",
        "mean"
      ],
      "metadata": {
        "colab": {
          "base_uri": "https://localhost:8080/"
        },
        "id": "Rur4752iYJGg",
        "outputId": "7c08137d-405b-4665-b075-76af8319cadd"
      },
      "execution_count": 64,
      "outputs": [
        {
          "output_type": "execute_result",
          "data": {
            "text/plain": [
              "0.5585394666288309"
            ]
          },
          "metadata": {},
          "execution_count": 64
        }
      ]
    },
    {
      "cell_type": "code",
      "source": [
        "data= np.mean(data, axis= 0)\n",
        "data"
      ],
      "metadata": {
        "colab": {
          "base_uri": "https://localhost:8080/"
        },
        "id": "UJDz748YYQle",
        "outputId": "84a392e4-2413-4e03-8770-f1dd9d54530a"
      },
      "execution_count": 67,
      "outputs": [
        {
          "output_type": "execute_result",
          "data": {
            "text/plain": [
              "0.13963486665720773"
            ]
          },
          "metadata": {},
          "execution_count": 67
        }
      ]
    },
    {
      "cell_type": "code",
      "source": [
        "arrr = np.arange(101)\n",
        "arrr"
      ],
      "metadata": {
        "colab": {
          "base_uri": "https://localhost:8080/"
        },
        "id": "gC7aUzo7Y3Ga",
        "outputId": "d468a6e3-49ab-4578-ea5b-4f360c1de281"
      },
      "execution_count": 72,
      "outputs": [
        {
          "output_type": "execute_result",
          "data": {
            "text/plain": [
              "array([  0,   1,   2,   3,   4,   5,   6,   7,   8,   9,  10,  11,  12,\n",
              "        13,  14,  15,  16,  17,  18,  19,  20,  21,  22,  23,  24,  25,\n",
              "        26,  27,  28,  29,  30,  31,  32,  33,  34,  35,  36,  37,  38,\n",
              "        39,  40,  41,  42,  43,  44,  45,  46,  47,  48,  49,  50,  51,\n",
              "        52,  53,  54,  55,  56,  57,  58,  59,  60,  61,  62,  63,  64,\n",
              "        65,  66,  67,  68,  69,  70,  71,  72,  73,  74,  75,  76,  77,\n",
              "        78,  79,  80,  81,  82,  83,  84,  85,  86,  87,  88,  89,  90,\n",
              "        91,  92,  93,  94,  95,  96,  97,  98,  99, 100])"
            ]
          },
          "metadata": {},
          "execution_count": 72
        }
      ]
    },
    {
      "cell_type": "code",
      "source": [
        "arrr.cumsum()"
      ],
      "metadata": {
        "colab": {
          "base_uri": "https://localhost:8080/"
        },
        "id": "jgX5gCMZZ7QY",
        "outputId": "f17be796-a293-4abc-887a-dcba8d2e2ad5"
      },
      "execution_count": 74,
      "outputs": [
        {
          "output_type": "execute_result",
          "data": {
            "text/plain": [
              "array([   0,    1,    3,    6,   10,   15,   21,   28,   36,   45,   55,\n",
              "         66,   78,   91,  105,  120,  136,  153,  171,  190,  210,  231,\n",
              "        253,  276,  300,  325,  351,  378,  406,  435,  465,  496,  528,\n",
              "        561,  595,  630,  666,  703,  741,  780,  820,  861,  903,  946,\n",
              "        990, 1035, 1081, 1128, 1176, 1225, 1275, 1326, 1378, 1431, 1485,\n",
              "       1540, 1596, 1653, 1711, 1770, 1830, 1891, 1953, 2016, 2080, 2145,\n",
              "       2211, 2278, 2346, 2415, 2485, 2556, 2628, 2701, 2775, 2850, 2926,\n",
              "       3003, 3081, 3160, 3240, 3321, 3403, 3486, 3570, 3655, 3741, 3828,\n",
              "       3916, 4005, 4095, 4186, 4278, 4371, 4465, 4560, 4656, 4753, 4851,\n",
              "       4950, 5050])"
            ]
          },
          "metadata": {},
          "execution_count": 74
        }
      ]
    },
    {
      "cell_type": "code",
      "source": [
        "k = np.sum(arrr)+len(arrr)"
      ],
      "metadata": {
        "id": "QR281KrsaAkV"
      },
      "execution_count": 75,
      "outputs": []
    },
    {
      "cell_type": "code",
      "source": [
        "k"
      ],
      "metadata": {
        "colab": {
          "base_uri": "https://localhost:8080/"
        },
        "id": "fKZhxBkIaTBE",
        "outputId": "3dc80597-f5fc-4d37-cf7d-d9f745f3d388"
      },
      "execution_count": 76,
      "outputs": [
        {
          "output_type": "execute_result",
          "data": {
            "text/plain": [
              "5151"
            ]
          },
          "metadata": {},
          "execution_count": 76
        }
      ]
    },
    {
      "cell_type": "code",
      "source": [],
      "metadata": {
        "id": "OCX9YSotaT6t"
      },
      "execution_count": null,
      "outputs": []
    }
  ]
}